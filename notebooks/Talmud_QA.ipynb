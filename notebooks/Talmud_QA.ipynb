{
 "cells": [
  {
   "cell_type": "code",
   "execution_count": 1,
   "id": "2c6d0029",
   "metadata": {},
   "outputs": [],
   "source": [
    "import sys\n",
    "sys.path.append(\"../src\")        # points to project/src\n",
    "from config import OPENAI_API_KEY, PINECONE_API_KEY"
   ]
  },
  {
   "cell_type": "markdown",
   "id": "1b089987-2e99-4205-93ad-39adf9e15ddd",
   "metadata": {},
   "source": [
    "# Following Pinecone Quickstart\n",
    "* [https://app.pinecone.io/](https://app.pinecone.io/)"
   ]
  },
  {
   "cell_type": "code",
   "execution_count": 2,
   "id": "76403dc7-b35e-41e5-a8d0-7264a71ebae4",
   "metadata": {},
   "outputs": [],
   "source": [
    "import openai\n",
    "from openai import OpenAI\n",
    "import os"
   ]
  },
  {
   "cell_type": "code",
   "execution_count": 3,
   "id": "ff8440be-32b5-4e1c-a495-a3d977be4d24",
   "metadata": {},
   "outputs": [],
   "source": [
    "from pinecone import Pinecone\n",
    "import os, time\n",
    "\n",
    "pc = Pinecone(api_key=PINECONE_API_KEY)\n",
    "client = OpenAI(api_key=OPENAI_API_KEY)\n",
    "\n",
    "index_name = \"developer-quickstart-py\"\n",
    "pc_index = pc.Index(index_name)   \n",
    "\n",
    "if not pc.has_index(index_name):\n",
    "    pc.create_index_for_model(\n",
    "        name=index_name,\n",
    "        cloud=\"aws\",\n",
    "        region=\"us-east-1\",\n",
    "        embed={\n",
    "            \"model\": \"llama-text-embed-v2\",\n",
    "            \"field_map\": {\"text\": \"chunk_text\"}\n",
    "        }\n",
    "    )\n",
    "    # optional: wait until the index is ready\n",
    "    while pc.describe_index(index_name).status.get(\"ready\") is False:\n",
    "        time.sleep(5)\n"
   ]
  },
  {
   "cell_type": "code",
   "execution_count": 4,
   "id": "2f786c64-376c-473a-a134-63a65739f9b8",
   "metadata": {},
   "outputs": [],
   "source": [
    "# wipe everything in namespace ns1\n",
    "# pc_index.delete(namespace=\"ns1\", delete_all=True)\n"
   ]
  },
  {
   "cell_type": "code",
   "execution_count": 5,
   "id": "362f0b5e-766a-498c-8ba9-793532875aa2",
   "metadata": {},
   "outputs": [],
   "source": [
    "def pinecone_hosted_search(query:str, top_k:int = 5, namespace=\"ns1\"):\n",
    "    \"\"\"Search a Pinecone index that embeds text server-side.\"\"\"\n",
    "    resp = pc_index.search(\n",
    "        namespace = namespace,\n",
    "        query     = {\n",
    "            \"top_k\": top_k,\n",
    "            \"inputs\": {\"text\": query}\n",
    "        },\n",
    "        fields = [\"chunk_text\", \"category\"]\n",
    "    )\n",
    "\n",
    "    # resp -> dict -> records list\n",
    "    for_match = resp.to_dict().get(\"records\", [])\n",
    "    docs = [\n",
    "        Document(\n",
    "            page_content = rec[\"metadata\"][\"chunk_text\"],\n",
    "            metadata     = {\n",
    "                \"id\":       rec[\"id\"],\n",
    "                \"category\": rec[\"metadata\"].get(\"category\", \"\"),\n",
    "                \"score\":    rec[\"score\"],\n",
    "            }\n",
    "        )\n",
    "        for rec in for_match\n",
    "    ]\n",
    "    return docs\n"
   ]
  },
  {
   "cell_type": "code",
   "execution_count": 6,
   "id": "ba4a0026-128d-40e4-a0f9-9d4b7ad23bdf",
   "metadata": {},
   "outputs": [
    {
     "name": "stdout",
     "output_type": "stream",
     "text": [
      "Prepared 2,297 paragraph records from 2297 pages\n"
     ]
    }
   ],
   "source": [
    "from pathlib import Path\n",
    "from itertools import islice\n",
    "\n",
    "# --- 1. Collect records -------------------------------------------------\n",
    "records = []\n",
    "pages_dir = Path(\"../data/talmud-pages\")\n",
    "\n",
    "for page_path in pages_dir.glob(\"*.txt\"):\n",
    "    page_id = page_path.stem                    # e.g. \"Berakhot_02a\"\n",
    "    text = page_path.read_text(encoding=\"utf-8\")\n",
    "\n",
    "    # split on blank lines → paragraphs\n",
    "    paragraphs = [p.strip() for p in text.split(\"\\n\\n\") if p.strip()]\n",
    "    for para_idx, para in enumerate(paragraphs):\n",
    "        records.append({\n",
    "            \"_id\": f\"{page_id}-{para_idx}\",     # unique id\n",
    "            \"chunk_text\": para,\n",
    "            \"category\": \"talmud\",\n",
    "            # add any other fields you like here\n",
    "        })\n",
    "\n",
    "print(f\"Prepared {len(records):,} paragraph records from {len(list(pages_dir.glob('*.txt')))} pages\")\n"
   ]
  },
  {
   "cell_type": "code",
   "execution_count": 7,
   "id": "1ae5892a-9a12-4241-8b11-df4fbf65d85c",
   "metadata": {},
   "outputs": [
    {
     "name": "stdout",
     "output_type": "stream",
     "text": [
      "✅ Finished upserting all paragraphs.\n"
     ]
    }
   ],
   "source": [
    "# --- 2. Upsert to Pinecone in batches -----------------------------------\n",
    "BATCH = 50               # well below Pinecone’s 2 MB request limit\n",
    "\n",
    "for start in range(0, len(records), BATCH):\n",
    "    batch = records[start : start + BATCH]\n",
    "    pc_index.upsert_records(\"ns1\", batch)\n",
    "\n",
    "print(\"✅ Finished upserting all paragraphs.\")\n"
   ]
  },
  {
   "cell_type": "code",
   "execution_count": 8,
   "id": "d7877985-8547-471c-a138-22503c335744",
   "metadata": {},
   "outputs": [],
   "source": [
    "resp = pc_index.search(\n",
    "    namespace=\"ns1\",\n",
    "    query={\"top_k\": 5, \"inputs\": {\"text\": \"What is Shema?\"}},\n",
    "    fields=[\"chunk_text\", \"category\"]\n",
    ")\n",
    "#print(resp.to_dict())\n",
    "#resp.to_dict()[\"result\"][\"hits\"]"
   ]
  },
  {
   "cell_type": "code",
   "execution_count": 9,
   "id": "35571257-0144-425c-915d-c6dd707ffa07",
   "metadata": {},
   "outputs": [],
   "source": [
    "query = \"When to read Shema\"\n",
    "results = pc_index.search(\n",
    "    namespace=\"ns1\",\n",
    "    query={\n",
    "        \"top_k\": 5,\n",
    "        \"inputs\": {\n",
    "            'text': query\n",
    "        }\n",
    "    }\n",
    ")\n",
    "\n",
    "#print(results)"
   ]
  },
  {
   "cell_type": "code",
   "execution_count": 10,
   "id": "c48fc6d2-7065-4f6a-ad74-6605dd9b0c7c",
   "metadata": {},
   "outputs": [],
   "source": [
    "reranked_results = pc_index.search(\n",
    "    namespace=\"ns1\",\n",
    "    query={\n",
    "        \"top_k\": 5,\n",
    "        \"inputs\": {\n",
    "            'text': query\n",
    "        }\n",
    "    },\n",
    "    rerank={\n",
    "        \"model\": \"bge-reranker-v2-m3\",\n",
    "        \"top_n\": 5,\n",
    "        \"rank_fields\": [\"chunk_text\"]\n",
    "    },\n",
    "    fields=[\"category\", \"chunk_text\"]\n",
    ")\n",
    "\n",
    "#print(reranked_results)"
   ]
  },
  {
   "cell_type": "code",
   "execution_count": 11,
   "id": "a42c192b-52d6-480d-9b5a-fb8ea6f50893",
   "metadata": {},
   "outputs": [
    {
     "name": "stdout",
     "output_type": "stream",
     "text": [
      "0\n",
      "{'namespaces': {'ns1': {'vector_count': 2297}}, 'index_fullness': 0.0, 'total_vector_count': 2297, 'dimension': 1024, 'metric': 'cosine', 'vector_type': 'dense'}\n",
      "{'result': {'hits': [{'_id': 'brachot15.html-0', '_score': 0.4486818015575409, 'fields': {'category': 'talmud', 'chunk_text': 'Brachot 15 - Proper Way Rabbi Yochanan taught: \"One who wishes to accept on himself Heaven\\'s sovereignty in a complete manner, should relieve himself and wash his hands, don tefillin, then say the Shema, and the Amidah (Standing) prayer - and this is complete acceptance.\" If one said the Shema, but did not make it audible to his ears - this not the perfect way, but it counts. Rabbi Yose disagrees and says that he has not fulfilled his obligation and will have to repeat the Shema. What is the argument? Rabbi Yose says that the word \"Shema\" itself, which means \"Hear\" teaches that one should hear his words. And the first teacher (usually it is Rabbi Meir), what does he say? He says, \"Shema,\" or \"Hear\" means \"Understand\" and tells us that one can say the Shema in any language that he understands. And Rabbi Yose? He surelly agrees that one can say the Shema in any language!? - He says that the word \"Shema\" actually carries both lessons: that one must hear his words and that one can recite the Shema in any language that he understands. Art: Jan Lievens - Washing the hands Talk to MosesAI about it'}}, {'_id': 'brachot2.html-0', '_score': 0.43033912777900696, 'fields': {'category': 'talmud', 'chunk_text': 'Brachot 2 - Saying the Shema Prayer Twice a day, evening and morning, one must say that he will listen to God and love God. This is the Shema prayer, \"Listen, Israel, God is our Lord, God is One.\" Since the Torah continues, \"when you lie down and when you get up,\" we understand that this paragraph needs to be said twice. However, the Shema is not said when one actually goes to sleep or wakes up, but rather in the general period when people lie down and get up. When is this? In the evening - when the Kohanim, who were impure, are returning from the mikveh to eat priestly portion (terumah), that is, at nightfall. That is when the time to say the Shema in the evening begins, but when does it end? Rabbi Eliezer said, \"Until the end of the first watch, that is, the first part of the night.\" Rabbi Eliezer understands \"when you lie down\" as the time when people go to sleep. The Sages say until midnight, and Rabban Gamliel says until dawn. We can understand Rabban Gamliel, \\'when people lie down\" means when people are asleep. But the opinion of the Sages will require clarification. Why did the teacher not state simply, \"nightfall,\" and instead talked about Kohanim coming home? - Because he wanted to teach an additional rule in passing, that the Kohanim can start eating their portion at night, after immersion. That is true even if they had a severe impurity, such as that of a zav, and still, need to bring a sacrifice - that offering does not prevent them from eating their kohen\\'s portion. Art: Vincent Van Gogh - Four Peasants at a Meal Talk to MosesAI about it'}}, {'_id': 'brachot25.html-0', '_score': 0.39851412177085876, 'fields': {'category': 'talmud', 'chunk_text': 'Brachot 25 - Reciting the Shema in a filthy alley Rav Huna said in the name of Rabbi Yochanan, \"If one was walking in a filthy alley (where excrement or urine is found), and the time for Shema was passing, he may place his hand over his mouth, and then say the Shema. Rav Chisda answered him, \"My God! Even if Rabbi Yochanan himself told me this, I would not listen to him.\" Rather he should pause. If he did not, the verse from Ezekiel applies to him, \"I (God) too gave you decrees that were not good\" - since he denied the goodness contained in Shema. If he did stop, however, his reward is in the verse \"And with this matter (or speech) shall you prolong your days.\" If one\\'s hand is resting in the airspace of a latrine, can he say the Shema then? Rav Huna says that he is permitted, relying on the verse in the psalms, \"All that breathe shall praise God\" - that is, only the position of his nose and mouth matters. However Rav Chisda forbids it, based on a different verse, \"All my limbs shall exclaim, \\'God, who is like You!\\'\" Art: David The Younger Teniers - The Five Senses Series- Smelling Talk to MosesAI about it'}}, {'_id': 'brachot5.html-0', '_score': 0.39621004462242126, 'fields': {'category': 'talmud', 'chunk_text': 'Brachot 5 - Prayer Shema at Bedtime Even though one says the Shema in the synagogue during the evening prayer, it is still a mitzvah to recite it again before going to sleep. Why? The psalm says, \"Reflect in your hearts while on your beds, and then be silent.\" Resh Lakish sees another lesson here: a man should constantly agitate his good thoughts against the bad ones (\"Agitate and don\\'t sin\"); if he removes the bad, good, but if not - let him study Torah (\"reflect in your hearts\"); if he wins, good, if not - let him say the Shema (\"on your beds\"); if that does not help, he should remind himself of the day of death (\"be silent\"). Rabbi Zeira said, \"Look how the Holy One Blessed Be He is not like a person of flesh and blood. If a person sells a cherished object to another, he is sad, and the buyer is happy. But the Holy One Blessed Be He gave the Torah to Israel, and He rejoiced, saying \\'For I have given you a good doctrine, do not abandon My Torah.\\'\" If a person sees afflictions befalling him, he should investigate his deeds since the nature of the distress may have a hint for him. If he examined his deeds and did not find anything, he should attribute it to the neglect of Torah study, based on the phrase \"Fortunate is the man whom God afflicts, and whom You teach from Your Torah.\" If he did not find that either, they are \"afflictions of love,\" since \"For God rebukes the one He loves.\" Art: Cornelis Bisschop - Old Woman Sleeping Talk to MosesAI about it'}}, {'_id': 'brachot13.html-0', '_score': 0.3794197142124176, 'fields': {'category': 'talmud', 'chunk_text': 'Brachot 13 - Remembering Egypt The \"Shema\" consists of three parts, and the third one talks about tzitzit, which are not worn at night. However, it also mentions going out of Egypt, and for this reason Ben Zoma maitains that one should say it, even in the evening recitation of Shema, because the Torah required to \"remember Exodus all the days of your life.\" \"Days\" means just that, days, but \"all days\" includes nights. However, the Sages say that it is not necessary to mentions Exodus at night. How do they explain the word \"all?\" - To include the Messianic era. Ben Zoma then questioned the Sages, \"But the Exodus troubles will be forgotten in the Messianic time!?\" The Sages answered him, \"Not forgotten entirely, but only relegated to the second place, in view of the new miracles that will happen then.\" If one happened to be reading the \"Shema\" - \"Listen, Israel\" in the Torah, at exactly the moment when the time to read this as a prayer arrived, does it count for him as prayer, or will he have to read it again? - That depends. If he had in mind, it counts, and if not, it does not. Does this mean in general that one has to be conscious of his doing a mitzvah, and only then it counts? - Not necessarily. Perhaps \"having it in mind\" does not mean \"to fulfill his prayer obligation\" but simply means that he is conscious that he is saying the words. How can one not be conscious if he is talking? - If he is reading the letters to verify the spelling in the Torah scroll. Art: Otto Herschel - Rabbi Reading The Torah Talk to MosesAI about it'}}]}, 'usage': {'read_units': 6, 'embed_total_tokens': 5}}\n",
      "I don’t know based on the documents I have.\n"
     ]
    }
   ],
   "source": [
    "# --- Helper: convert Pinecone hits → context ---------------------------------\n",
    "def top_k_to_context(results, max_chars=2_000):\n",
    "    \"\"\"\n",
    "    Take a list of LangChain Documents *or* (doc, score) tuples and concatenate\n",
    "    their page_content into one context string, truncated to `max_chars`.\n",
    "    \"\"\"\n",
    "    # unwrap (doc, score) tuples if needed\n",
    "    docs = [r[0] if isinstance(r, tuple) else r for r in results]\n",
    "    chunks = [d.page_content.strip() for d in docs]\n",
    "\n",
    "    context = \"\\n\\n---\\n\\n\".join(chunks)\n",
    "    return context[:max_chars]\n",
    "\n",
    "# --- Main: ask ChatGPT with retrieved context --------------------------------\n",
    "def ask_chatgpt_with_context(question, pinecone_hits, model=\"gpt-4o-mini\", k_context=5):\n",
    "    \"\"\"\n",
    "    * question: user question string\n",
    "    * pinecone_hits: list from similarity_search / search\n",
    "    * model: any chat-capable OpenAI model\n",
    "    * k_context: how many top docs to include\n",
    "    \"\"\"\n",
    "    context_block = top_k_to_context(pinecone_hits[:k_context])\n",
    "\n",
    "    messages = [\n",
    "        {\n",
    "            \"role\": \"system\",\n",
    "            \"content\": (\n",
    "                \"You are MosesAI, a helpful Talmudic assistant. \"\n",
    "                \"Answer the user using ONLY the context provided. \"\n",
    "                \"If the answer isn't in the context, reply 'I don’t know based on the documents I have.'\"\n",
    "            )\n",
    "        },\n",
    "        {\n",
    "            \"role\": \"user\",\n",
    "            \"content\": f\"Context:\\n{context_block}\\n\\n---\\n\\nQuestion: {question}\"\n",
    "        }\n",
    "    ]\n",
    "\n",
    "    response = client.chat.completions.create(\n",
    "        model=model,\n",
    "        messages=messages,\n",
    "        temperature=0.2\n",
    "    )\n",
    "    return response.choices[0].message.content\n",
    "\n",
    "# --- Example usage -----------------------------------------------------------\n",
    "from langchain_pinecone import PineconeVectorStore\n",
    "query = \"What is Shema?\"\n",
    "pinecone_hits = pinecone_hosted_search(query, top_k=5)\n",
    "\n",
    "print(len(pinecone_hits))\n",
    "summary = pc_index.describe_index_stats(namespace=\"ns1\").to_dict()\n",
    "print(summary)\n",
    "\n",
    "resp = pc_index.search(\n",
    "    namespace=\"ns1\",\n",
    "    query={\n",
    "        \"top_k\": 5,\n",
    "        \"inputs\": {\"text\": \"Shema\"}\n",
    "    },\n",
    "    fields=[\"chunk_text\", \"category\"]   # return metadata fields\n",
    ")\n",
    "\n",
    "print(resp.to_dict())\n",
    "\n",
    "# Peek at the raw records\n",
    "for doc in pinecone_hits:\n",
    "    print(doc.metadata[\"id\"], \"→\", doc.metadata.get(\"score\"))\n",
    "    print(doc.page_content[:200], \"...\\n\")\n",
    "\n",
    "\n",
    "answer = ask_chatgpt_with_context(query, pinecone_hits)\n",
    "print(answer)\n"
   ]
  },
  {
   "cell_type": "code",
   "execution_count": 12,
   "id": "9fe9f30f-3053-4d7b-8b91-1d0dae46a9ce",
   "metadata": {},
   "outputs": [],
   "source": [
    "from langchain.schema import Document\n",
    "\n",
    "def pinecone_hosted_search(query, top_k=5, namespace=\"ns1\"):\n",
    "    resp = pc_index.search(\n",
    "        namespace=namespace,\n",
    "        query={\"top_k\": top_k, \"inputs\": {\"text\": query}},\n",
    "        fields=[\"chunk_text\", \"category\"]\n",
    "    )\n",
    "    hits = resp.to_dict()[\"result\"][\"hits\"]\n",
    "    return [\n",
    "        Document(\n",
    "            page_content=h[\"fields\"][\"chunk_text\"],\n",
    "            metadata={\n",
    "                \"id\": h[\"_id\"],\n",
    "                \"score\": h[\"_score\"],\n",
    "                \"category\": h[\"fields\"].get(\"category\", \"\")\n",
    "            }\n",
    "        )\n",
    "        for h in hits\n",
    "    ]\n"
   ]
  },
  {
   "cell_type": "code",
   "execution_count": 13,
   "id": "bc9933e3-9b69-4be2-a968-dc63e8addb1d",
   "metadata": {},
   "outputs": [
    {
     "name": "stdout",
     "output_type": "stream",
     "text": [
      "5\n",
      "Brachot 25 - Reciting the Shema in a filthy alley Rav Huna said in the name of Rabbi Yochanan, \"If one was walking in a filthy alley (where excrement or urine is found), and the time for Shema was pas\n"
     ]
    }
   ],
   "source": [
    "pinecone_hits = pinecone_hosted_search(\"Can I read Shema in a filthy place?\", top_k=5)\n",
    "print(len(pinecone_hits))\n",
    "print(pinecone_hits[0].page_content[:200])"
   ]
  },
  {
   "cell_type": "code",
   "execution_count": 14,
   "id": "f76c42bf-8761-486a-a300-e3d2c96c861e",
   "metadata": {},
   "outputs": [
    {
     "name": "stdout",
     "output_type": "stream",
     "text": [
      "CONTEXT PREVIEW:\n",
      " Brachot 25 - Reciting the Shema in a filthy alley Rav Huna said in the name of Rabbi Yochanan, \"If one was walking in a filthy alley (where excrement or urine is found), and the time for Shema was passing, he may place his hand over his mouth, and then say the Shema. Rav Chisda answered him, \"My God! Even if Rabbi Yochanan himself told me this, I would not listen to him.\" Rather he should pause. If he did not, the verse from Ezekiel applies to him, \"I (God) too gave you decrees that were not goo \n",
      "--- END ---\n"
     ]
    }
   ],
   "source": [
    "k_context = 5                           # or fewer if you prefer\n",
    "context_block = top_k_to_context(pinecone_hits[:k_context])\n",
    "\n",
    "print(\"CONTEXT PREVIEW:\\n\", context_block[:500], \"\\n--- END ---\")\n"
   ]
  },
  {
   "cell_type": "code",
   "execution_count": 15,
   "id": "819a71fc-8061-4500-8c99-4e8ac1377749",
   "metadata": {},
   "outputs": [
    {
     "name": "stdout",
     "output_type": "stream",
     "text": [
      "GPT answer:\n",
      " According to Rav Huna, one may recite the Shema in a filthy alley by placing his hand over his mouth. However, Rav Chisda disagrees and believes one should pause instead. If one does pause, he is rewarded, but if he does not, it is considered a denial of the goodness contained in Shema. Therefore, while it is permitted under certain conditions, there are differing opinions on the matter.\n"
     ]
    }
   ],
   "source": [
    "from openai import OpenAI\n",
    "client = OpenAI(api_key=OPENAI_API_KEY)     # run once per kernel\n",
    "\n",
    "answer = ask_chatgpt_with_context(\"Can I read Shema in a filthy place?\", pinecone_hits, k_context=5)\n",
    "print(\"GPT answer:\\n\", answer)\n"
   ]
  }
 ],
 "metadata": {
  "kernelspec": {
   "display_name": "My env",
   "language": "python",
   "name": "myenv"
  },
  "language_info": {
   "codemirror_mode": {
    "name": "ipython",
    "version": 3
   },
   "file_extension": ".py",
   "mimetype": "text/x-python",
   "name": "python",
   "nbconvert_exporter": "python",
   "pygments_lexer": "ipython3",
   "version": "3.12.7"
  }
 },
 "nbformat": 4,
 "nbformat_minor": 5
}
