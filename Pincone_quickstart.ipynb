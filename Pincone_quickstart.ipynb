{
 "cells": [
  {
   "cell_type": "markdown",
   "id": "1b089987-2e99-4205-93ad-39adf9e15ddd",
   "metadata": {},
   "source": [
    "# Following Pinecone Quickstart\n",
    "* [https://app.pinecone.io/](https://app.pinecone.io/)"
   ]
  },
  {
   "cell_type": "code",
   "execution_count": 1,
   "id": "76403dc7-b35e-41e5-a8d0-7264a71ebae4",
   "metadata": {},
   "outputs": [],
   "source": [
    "import openai\n",
    "import os\n",
    "#import pathlib"
   ]
  },
  {
   "cell_type": "code",
   "execution_count": 2,
   "id": "459633e2-8048-4c0b-8294-f1aa9590e0af",
   "metadata": {},
   "outputs": [],
   "source": [
    "from dotenv import load_dotenv, find_dotenv\n",
    "_ = load_dotenv(find_dotenv()) # read local .env file"
   ]
  },
  {
   "cell_type": "code",
   "execution_count": 3,
   "id": "ff8440be-32b5-4e1c-a495-a3d977be4d24",
   "metadata": {},
   "outputs": [],
   "source": [
    "from pinecone import Pinecone\n",
    "import os, time\n",
    "\n",
    "pc = Pinecone(api_key=os.getenv(\"PINECONE_API_KEY\"))\n",
    "\n",
    "index_name = \"developer-quickstart-py\"\n",
    "\n",
    "if not pc.has_index(index_name):\n",
    "    pc.create_index_for_model(\n",
    "        name=index_name,\n",
    "        cloud=\"aws\",\n",
    "        region=\"us-east-1\",\n",
    "        embed={\n",
    "            \"model\": \"llama-text-embed-v2\",\n",
    "            \"field_map\": {\"text\": \"chunk_text\"}\n",
    "        }\n",
    "    )\n",
    "    # optional: wait until the index is ready\n",
    "    while pc.describe_index(index_name).status.get(\"ready\") is False:\n",
    "        time.sleep(5)\n"
   ]
  },
  {
   "cell_type": "code",
   "execution_count": 4,
   "id": "4832b548-c3c5-40b1-86c0-0672b1ad49f9",
   "metadata": {},
   "outputs": [],
   "source": [
    "index = pc.Index(index_name)  \n",
    "\n",
    "records = [\n",
    "    { \"_id\": \"rec1\", \"chunk_text\": \"The Eiffel Tower was completed in 1889 and stands in Paris, France.\", \"category\": \"history\" },\n",
    "    { \"_id\": \"rec2\", \"chunk_text\": \"Photosynthesis allows plants to convert sunlight into energy.\", \"category\": \"science\" },\n",
    "    { \"_id\": \"rec3\", \"chunk_text\": \"Albert Einstein developed the theory of relativity.\", \"category\": \"science\" },\n",
    "    { \"_id\": \"rec4\", \"chunk_text\": \"The mitochondrion is often called the powerhouse of the cell.\", \"category\": \"biology\" },\n",
    "    { \"_id\": \"rec5\", \"chunk_text\": \"Shakespeare wrote many famous plays, including Hamlet and Macbeth.\", \"category\": \"literature\" },\n",
    "    { \"_id\": \"rec6\", \"chunk_text\": \"Water boils at 100°C under standard atmospheric pressure.\", \"category\": \"physics\" },\n",
    "    { \"_id\": \"rec7\", \"chunk_text\": \"The Great Wall of China was built to protect against invasions.\", \"category\": \"history\" },\n",
    "    { \"_id\": \"rec8\", \"chunk_text\": \"Honey never spoils due to its low moisture content and acidity.\", \"category\": \"food science\" },\n",
    "    { \"_id\": \"rec9\", \"chunk_text\": \"The speed of light in a vacuum is approximately 299,792 km/s.\", \"category\": \"physics\" },\n",
    "    { \"_id\": \"rec10\", \"chunk_text\": \"Newton's laws describe the motion of objects.\", \"category\": \"physics\" }\n",
    "]\n",
    "\n",
    "index.upsert_records(\"ns1\", records)"
   ]
  },
  {
   "cell_type": "code",
   "execution_count": 5,
   "id": "92493997-f41e-4eff-ba12-0c0c5a40e0c1",
   "metadata": {},
   "outputs": [
    {
     "name": "stdout",
     "output_type": "stream",
     "text": [
      "{'dimension': 1024,\n",
      " 'index_fullness': 0.0,\n",
      " 'metric': 'cosine',\n",
      " 'namespaces': {'ns1': {'vector_count': 10}},\n",
      " 'total_vector_count': 10,\n",
      " 'vector_type': 'dense'}\n"
     ]
    }
   ],
   "source": [
    "print(index.describe_index_stats())"
   ]
  },
  {
   "cell_type": "code",
   "execution_count": 6,
   "id": "35571257-0144-425c-915d-c6dd707ffa07",
   "metadata": {},
   "outputs": [
    {
     "name": "stdout",
     "output_type": "stream",
     "text": [
      "{'result': {'hits': [{'_id': 'rec5',\n",
      "                      '_score': 0.18146805465221405,\n",
      "                      'fields': {'category': 'literature',\n",
      "                                 'chunk_text': 'Shakespeare wrote many famous '\n",
      "                                               'plays, including Hamlet and '\n",
      "                                               'Macbeth.'}},\n",
      "                     {'_id': 'rec1',\n",
      "                      '_score': 0.08277791738510132,\n",
      "                      'fields': {'category': 'history',\n",
      "                                 'chunk_text': 'The Eiffel Tower was completed '\n",
      "                                               'in 1889 and stands in Paris, '\n",
      "                                               'France.'}},\n",
      "                     {'_id': 'rec7',\n",
      "                      '_score': 0.07829592376947403,\n",
      "                      'fields': {'category': 'history',\n",
      "                                 'chunk_text': 'The Great Wall of China was '\n",
      "                                               'built to protect against '\n",
      "                                               'invasions.'}},\n",
      "                     {'_id': 'rec3',\n",
      "                      '_score': 0.05558488517999649,\n",
      "                      'fields': {'category': 'science',\n",
      "                                 'chunk_text': 'Albert Einstein developed the '\n",
      "                                               'theory of relativity.'}},\n",
      "                     {'_id': 'rec4',\n",
      "                      '_score': 0.021381307393312454,\n",
      "                      'fields': {'category': 'biology',\n",
      "                                 'chunk_text': 'The mitochondrion is often '\n",
      "                                               'called the powerhouse of the '\n",
      "                                               'cell.'}}]},\n",
      " 'usage': {'embed_total_tokens': 8, 'read_units': 1}}\n"
     ]
    }
   ],
   "source": [
    "query = \"Famous historical structures and monuments\"\n",
    "\n",
    "results = index.search(\n",
    "    namespace=\"ns1\",\n",
    "    query={\n",
    "        \"top_k\": 5,\n",
    "        \"inputs\": {\n",
    "            'text': query\n",
    "        }\n",
    "    }\n",
    ")\n",
    "\n",
    "print(results)"
   ]
  },
  {
   "cell_type": "code",
   "execution_count": 7,
   "id": "c48fc6d2-7065-4f6a-ad74-6605dd9b0c7c",
   "metadata": {},
   "outputs": [
    {
     "name": "stdout",
     "output_type": "stream",
     "text": [
      "{'result': {'hits': [{'_id': 'rec1',\n",
      "                      '_score': 0.10650458931922913,\n",
      "                      'fields': {'category': 'history',\n",
      "                                 'chunk_text': 'The Eiffel Tower was completed '\n",
      "                                               'in 1889 and stands in Paris, '\n",
      "                                               'France.'}},\n",
      "                     {'_id': 'rec7',\n",
      "                      '_score': 0.06278920918703079,\n",
      "                      'fields': {'category': 'history',\n",
      "                                 'chunk_text': 'The Great Wall of China was '\n",
      "                                               'built to protect against '\n",
      "                                               'invasions.'}},\n",
      "                     {'_id': 'rec5',\n",
      "                      '_score': 3.21923362207599e-05,\n",
      "                      'fields': {'category': 'literature',\n",
      "                                 'chunk_text': 'Shakespeare wrote many famous '\n",
      "                                               'plays, including Hamlet and '\n",
      "                                               'Macbeth.'}},\n",
      "                     {'_id': 'rec4',\n",
      "                      '_score': 1.6187581422855146e-05,\n",
      "                      'fields': {'category': 'biology',\n",
      "                                 'chunk_text': 'The mitochondrion is often '\n",
      "                                               'called the powerhouse of the '\n",
      "                                               'cell.'}},\n",
      "                     {'_id': 'rec3',\n",
      "                      '_score': 1.5936620911816135e-05,\n",
      "                      'fields': {'category': 'science',\n",
      "                                 'chunk_text': 'Albert Einstein developed the '\n",
      "                                               'theory of relativity.'}}]},\n",
      " 'usage': {'embed_total_tokens': 8, 'read_units': 1, 'rerank_units': 1}}\n"
     ]
    }
   ],
   "source": [
    "reranked_results = index.search(\n",
    "    namespace=\"ns1\",\n",
    "    query={\n",
    "        \"top_k\": 5,\n",
    "        \"inputs\": {\n",
    "            'text': query\n",
    "        }\n",
    "    },\n",
    "    rerank={\n",
    "        \"model\": \"bge-reranker-v2-m3\",\n",
    "        \"top_n\": 5,\n",
    "        \"rank_fields\": [\"chunk_text\"]\n",
    "    },\n",
    "    fields=[\"category\", \"chunk_text\"]\n",
    ")\n",
    "\n",
    "print(reranked_results)"
   ]
  },
  {
   "cell_type": "code",
   "execution_count": null,
   "id": "108ff513-088c-4bfa-9135-091f3896b31b",
   "metadata": {},
   "outputs": [],
   "source": []
  }
 ],
 "metadata": {
  "kernelspec": {
   "display_name": "My env",
   "language": "python",
   "name": "myenv"
  },
  "language_info": {
   "codemirror_mode": {
    "name": "ipython",
    "version": 3
   },
   "file_extension": ".py",
   "mimetype": "text/x-python",
   "name": "python",
   "nbconvert_exporter": "python",
   "pygments_lexer": "ipython3",
   "version": "3.12.7"
  }
 },
 "nbformat": 4,
 "nbformat_minor": 5
}
