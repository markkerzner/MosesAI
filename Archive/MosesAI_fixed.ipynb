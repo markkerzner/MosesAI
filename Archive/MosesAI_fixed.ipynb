{
 "cells": [
  {
   "cell_type": "markdown",
   "id": "22d3f44d",
   "metadata": {},
   "source": [
    "# MosesAI – RAG Pipeline (Fixed Imports)\n",
    "Generated 2025-05-23"
   ]
  },
  {
   "cell_type": "code",
   "execution_count": 1,
   "id": "4d546353",
   "metadata": {},
   "outputs": [],
   "source": [
    "import openai\n",
    "import os, pathlib\n",
    "from langchain.document_loaders import DirectoryLoader, TextLoader\n",
    "from langchain.text_splitter import RecursiveCharacterTextSplitter\n",
    "from langchain.embeddings import OpenAIEmbeddings\n",
    "from langchain.chains import RetrievalQA\n",
    "from langchain.chat_models import ChatOpenAI\n",
    "from langchain_pinecone import PineconeVectorStore\n",
    "\n",
    "# Alias imports to avoid collision\n",
    "from langchain.vectorstores import Pinecone as PineconeStore\n",
    "from pinecone import Pinecone as PineconeClient\n",
    "\n",
    "\n",
    "\n",
    "from dotenv import load_dotenv, find_dotenv\n",
    "_ = load_dotenv(find_dotenv()) # read local .env file\n",
    "\n",
    "OPENAI_API_KEY = os.getenv('OPENAI_API_KEY')\n",
    "PINECONE_API_KEY = os.getenv('PINECONE_API_KEY')\n",
    "assert OPENAI_API_KEY and PINECONE_API_KEY, 'Add API keys to environment!'\n"
   ]
  },
  {
   "cell_type": "markdown",
   "id": "d0661dd6",
   "metadata": {},
   "source": [
    "## 1  Load & chunk documents"
   ]
  },
  {
   "cell_type": "code",
   "execution_count": 2,
   "id": "cff3b330",
   "metadata": {},
   "outputs": [
    {
     "name": "stdout",
     "output_type": "stream",
     "text": [
      "Docs: 2297 Chunks: 6899\n"
     ]
    }
   ],
   "source": [
    "\n",
    "DATA_DIR = pathlib.Path('../data/talmud-pages')\n",
    "loader = DirectoryLoader(str(DATA_DIR), loader_cls=TextLoader)\n",
    "docs = loader.load()\n",
    "splitter = RecursiveCharacterTextSplitter(chunk_size=512, chunk_overlap=64)\n",
    "chunks = splitter.split_documents(docs)\n",
    "print('Docs:', len(docs), 'Chunks:', len(chunks))\n"
   ]
  },
  {
   "cell_type": "markdown",
   "id": "5c656965",
   "metadata": {},
   "source": [
    "## 2  Embed & index in Pinecone"
   ]
  },
  {
   "cell_type": "code",
   "execution_count": 3,
   "id": "8d1aa85f",
   "metadata": {},
   "outputs": [
    {
     "name": "stderr",
     "output_type": "stream",
     "text": [
      "/tmp/ipykernel_218064/3197488182.py:1: LangChainDeprecationWarning: The class `OpenAIEmbeddings` was deprecated in LangChain 0.0.9 and will be removed in 1.0. An updated version of the class exists in the :class:`~langchain-openai package and should be used instead. To use it run `pip install -U :class:`~langchain-openai` and import as `from :class:`~langchain_openai import OpenAIEmbeddings``.\n",
      "  embeddings = OpenAIEmbeddings(model='text-embedding-3-small')\n"
     ]
    },
    {
     "ename": "PineconeApiException",
     "evalue": "(429)\nReason: Too Many Requests\nHTTP response headers: HTTPHeaderDict({'content-type': 'application/json', 'date': 'Tue, 27 May 2025 00:55:21 GMT', 'x-envoy-upstream-service-time': '60', 'content-length': '135', 'server': 'envoy'})\nHTTP response body: {\"code\":8,\"message\":\"Your request is larger than the maximum supported size - 2MB. Please try to reduce your batch size.\",\"details\":[]}\n",
     "output_type": "error",
     "traceback": [
      "\u001B[31m---------------------------------------------------------------------------\u001B[39m",
      "\u001B[31mPineconeApiException\u001B[39m                      Traceback (most recent call last)",
      "\u001B[36mCell\u001B[39m\u001B[36m \u001B[39m\u001B[32mIn[3]\u001B[39m\u001B[32m, line 12\u001B[39m\n\u001B[32m      9\u001B[39m MAX_LEN = \u001B[32m8000\u001B[39m  \u001B[38;5;66;03m# characters\u001B[39;00m\n\u001B[32m     10\u001B[39m chunks = [doc \u001B[38;5;28;01mfor\u001B[39;00m doc \u001B[38;5;129;01min\u001B[39;00m chunks \u001B[38;5;28;01mif\u001B[39;00m \u001B[38;5;28mlen\u001B[39m(doc.page_content) < MAX_LEN]\n\u001B[32m---> \u001B[39m\u001B[32m12\u001B[39m vectorstore = \u001B[43mPineconeVectorStore\u001B[49m\u001B[43m.\u001B[49m\u001B[43mfrom_documents\u001B[49m\u001B[43m(\u001B[49m\n\u001B[32m     13\u001B[39m \u001B[43m    \u001B[49m\u001B[43mdocuments\u001B[49m\u001B[43m=\u001B[49m\u001B[43mchunks\u001B[49m\u001B[43m,\u001B[49m\n\u001B[32m     14\u001B[39m \u001B[43m    \u001B[49m\u001B[43membedding\u001B[49m\u001B[43m=\u001B[49m\u001B[43membeddings\u001B[49m\u001B[43m,\u001B[49m\n\u001B[32m     15\u001B[39m \u001B[43m    \u001B[49m\u001B[43mindex_name\u001B[49m\u001B[43m=\u001B[49m\u001B[43mindex_name\u001B[49m\u001B[43m,\u001B[49m\n\u001B[32m     16\u001B[39m \u001B[43m    \u001B[49m\u001B[43mpinecone_api_key\u001B[49m\u001B[43m=\u001B[49m\u001B[43mos\u001B[49m\u001B[43m.\u001B[49m\u001B[43mgetenv\u001B[49m\u001B[43m(\u001B[49m\u001B[33;43m\"\u001B[39;49m\u001B[33;43mPINECONE_API_KEY\u001B[39;49m\u001B[33;43m\"\u001B[39;49m\u001B[43m)\u001B[49m\u001B[43m,\u001B[49m\n\u001B[32m     17\u001B[39m \u001B[43m    \u001B[49m\u001B[43mnamespace\u001B[49m\u001B[43m=\u001B[49m\u001B[38;5;28;43;01mNone\u001B[39;49;00m\u001B[43m,\u001B[49m\u001B[43m     \u001B[49m\u001B[38;5;66;43;03m# optional\u001B[39;49;00m\n\u001B[32m     18\u001B[39m \u001B[43m    \u001B[49m\u001B[43mbatch_size\u001B[49m\u001B[43m=\u001B[49m\u001B[32;43m1\u001B[39;49m\u001B[43m       \u001B[49m\u001B[38;5;66;43;03m# 👈 this fixes the 2MB error\u001B[39;49;00m\n\u001B[32m     19\u001B[39m \u001B[43m)\u001B[49m\n\u001B[32m     20\u001B[39m \u001B[38;5;28mprint\u001B[39m(\u001B[33m'\u001B[39m\u001B[33mVectorstore ready\u001B[39m\u001B[33m'\u001B[39m)\n",
      "\u001B[36mFile \u001B[39m\u001B[32m/media/mark/data/markkerzner/MosesAI/myenv/lib/python3.12/site-packages/langchain_core/vectorstores/base.py:848\u001B[39m, in \u001B[36mVectorStore.from_documents\u001B[39m\u001B[34m(cls, documents, embedding, **kwargs)\u001B[39m\n\u001B[32m    845\u001B[39m     \u001B[38;5;28;01mif\u001B[39;00m \u001B[38;5;28many\u001B[39m(ids):\n\u001B[32m    846\u001B[39m         kwargs[\u001B[33m\"\u001B[39m\u001B[33mids\u001B[39m\u001B[33m\"\u001B[39m] = ids\n\u001B[32m--> \u001B[39m\u001B[32m848\u001B[39m \u001B[38;5;28;01mreturn\u001B[39;00m \u001B[38;5;28;43mcls\u001B[39;49m\u001B[43m.\u001B[49m\u001B[43mfrom_texts\u001B[49m\u001B[43m(\u001B[49m\u001B[43mtexts\u001B[49m\u001B[43m,\u001B[49m\u001B[43m \u001B[49m\u001B[43membedding\u001B[49m\u001B[43m,\u001B[49m\u001B[43m \u001B[49m\u001B[43mmetadatas\u001B[49m\u001B[43m=\u001B[49m\u001B[43mmetadatas\u001B[49m\u001B[43m,\u001B[49m\u001B[43m \u001B[49m\u001B[43m*\u001B[49m\u001B[43m*\u001B[49m\u001B[43mkwargs\u001B[49m\u001B[43m)\u001B[49m\n",
      "\u001B[36mFile \u001B[39m\u001B[32m/media/mark/data/markkerzner/MosesAI/myenv/lib/python3.12/site-packages/langchain_pinecone/vectorstores.py:823\u001B[39m, in \u001B[36mPineconeVectorStore.from_texts\u001B[39m\u001B[34m(cls, texts, embedding, metadatas, ids, batch_size, text_key, namespace, index_name, upsert_kwargs, pool_threads, embeddings_chunk_size, id_prefix, **kwargs)\u001B[39m\n\u001B[32m    820\u001B[39m pinecone_index = \u001B[38;5;28mcls\u001B[39m.get_pinecone_index(index_name, pool_threads)\n\u001B[32m    821\u001B[39m pinecone = \u001B[38;5;28mcls\u001B[39m(pinecone_index, embedding, text_key, namespace, **kwargs)\n\u001B[32m--> \u001B[39m\u001B[32m823\u001B[39m \u001B[43mpinecone\u001B[49m\u001B[43m.\u001B[49m\u001B[43madd_texts\u001B[49m\u001B[43m(\u001B[49m\n\u001B[32m    824\u001B[39m \u001B[43m    \u001B[49m\u001B[43mtexts\u001B[49m\u001B[43m,\u001B[49m\n\u001B[32m    825\u001B[39m \u001B[43m    \u001B[49m\u001B[43mmetadatas\u001B[49m\u001B[43m=\u001B[49m\u001B[43mmetadatas\u001B[49m\u001B[43m,\u001B[49m\n\u001B[32m    826\u001B[39m \u001B[43m    \u001B[49m\u001B[43mids\u001B[49m\u001B[43m=\u001B[49m\u001B[43mids\u001B[49m\u001B[43m,\u001B[49m\n\u001B[32m    827\u001B[39m \u001B[43m    \u001B[49m\u001B[43mnamespace\u001B[49m\u001B[43m=\u001B[49m\u001B[43mnamespace\u001B[49m\u001B[43m,\u001B[49m\n\u001B[32m    828\u001B[39m \u001B[43m    \u001B[49m\u001B[43mbatch_size\u001B[49m\u001B[43m=\u001B[49m\u001B[43mbatch_size\u001B[49m\u001B[43m,\u001B[49m\n\u001B[32m    829\u001B[39m \u001B[43m    \u001B[49m\u001B[43membedding_chunk_size\u001B[49m\u001B[43m=\u001B[49m\u001B[43membeddings_chunk_size\u001B[49m\u001B[43m,\u001B[49m\n\u001B[32m    830\u001B[39m \u001B[43m    \u001B[49m\u001B[43mid_prefix\u001B[49m\u001B[43m=\u001B[49m\u001B[43mid_prefix\u001B[49m\u001B[43m,\u001B[49m\n\u001B[32m    831\u001B[39m \u001B[43m    \u001B[49m\u001B[43m*\u001B[49m\u001B[43m*\u001B[49m\u001B[43m(\u001B[49m\u001B[43mupsert_kwargs\u001B[49m\u001B[43m \u001B[49m\u001B[38;5;129;43;01mor\u001B[39;49;00m\u001B[43m \u001B[49m\u001B[43m{\u001B[49m\u001B[43m}\u001B[49m\u001B[43m)\u001B[49m\u001B[43m,\u001B[49m\n\u001B[32m    832\u001B[39m \u001B[43m\u001B[49m\u001B[43m)\u001B[49m\n\u001B[32m    833\u001B[39m \u001B[38;5;28;01mreturn\u001B[39;00m pinecone\n",
      "\u001B[36mFile \u001B[39m\u001B[32m/media/mark/data/markkerzner/MosesAI/myenv/lib/python3.12/site-packages/langchain_pinecone/vectorstores.py:314\u001B[39m, in \u001B[36mPineconeVectorStore.add_texts\u001B[39m\u001B[34m(self, texts, metadatas, ids, namespace, batch_size, embedding_chunk_size, id_prefix, **kwargs)\u001B[39m\n\u001B[32m    312\u001B[39m     embeddings = \u001B[38;5;28mself\u001B[39m._embedding.embed_documents(chunk_texts)\n\u001B[32m    313\u001B[39m     vector_tuples = \u001B[38;5;28mlist\u001B[39m(\u001B[38;5;28mzip\u001B[39m(chunk_ids, embeddings, chunk_metadatas))\n\u001B[32m--> \u001B[39m\u001B[32m314\u001B[39m     \u001B[38;5;28;43mself\u001B[39;49m\u001B[43m.\u001B[49m\u001B[43mindex\u001B[49m\u001B[43m.\u001B[49m\u001B[43mupsert\u001B[49m\u001B[43m(\u001B[49m\n\u001B[32m    315\u001B[39m \u001B[43m        \u001B[49m\u001B[43mvectors\u001B[49m\u001B[43m=\u001B[49m\u001B[43mvector_tuples\u001B[49m\u001B[43m,\u001B[49m\n\u001B[32m    316\u001B[39m \u001B[43m        \u001B[49m\u001B[43mnamespace\u001B[49m\u001B[43m=\u001B[49m\u001B[43mnamespace\u001B[49m\u001B[43m,\u001B[49m\n\u001B[32m    317\u001B[39m \u001B[43m        \u001B[49m\u001B[43m*\u001B[49m\u001B[43m*\u001B[49m\u001B[43mkwargs\u001B[49m\u001B[43m,\u001B[49m\n\u001B[32m    318\u001B[39m \u001B[43m    \u001B[49m\u001B[43m)\u001B[49m\n\u001B[32m    320\u001B[39m \u001B[38;5;28;01mreturn\u001B[39;00m ids\n",
      "\u001B[36mFile \u001B[39m\u001B[32m/media/mark/data/markkerzner/MosesAI/myenv/lib/python3.12/site-packages/pinecone/utils/error_handling.py:11\u001B[39m, in \u001B[36mvalidate_and_convert_errors.<locals>.inner_func\u001B[39m\u001B[34m(*args, **kwargs)\u001B[39m\n\u001B[32m      8\u001B[39m \u001B[38;5;129m@wraps\u001B[39m(func)\n\u001B[32m      9\u001B[39m \u001B[38;5;28;01mdef\u001B[39;00m\u001B[38;5;250m \u001B[39m\u001B[34minner_func\u001B[39m(*args, **kwargs):\n\u001B[32m     10\u001B[39m     \u001B[38;5;28;01mtry\u001B[39;00m:\n\u001B[32m---> \u001B[39m\u001B[32m11\u001B[39m         \u001B[38;5;28;01mreturn\u001B[39;00m \u001B[43mfunc\u001B[49m\u001B[43m(\u001B[49m\u001B[43m*\u001B[49m\u001B[43margs\u001B[49m\u001B[43m,\u001B[49m\u001B[43m \u001B[49m\u001B[43m*\u001B[49m\u001B[43m*\u001B[49m\u001B[43mkwargs\u001B[49m\u001B[43m)\u001B[49m\n\u001B[32m     12\u001B[39m     \u001B[38;5;28;01mexcept\u001B[39;00m MaxRetryError \u001B[38;5;28;01mas\u001B[39;00m e:\n\u001B[32m     13\u001B[39m         \u001B[38;5;28;01mif\u001B[39;00m \u001B[38;5;28misinstance\u001B[39m(e.reason, ProtocolError):\n",
      "\u001B[36mFile \u001B[39m\u001B[32m/media/mark/data/markkerzner/MosesAI/myenv/lib/python3.12/site-packages/pinecone/data/index.py:141\u001B[39m, in \u001B[36mIndex.upsert\u001B[39m\u001B[34m(self, vectors, namespace, batch_size, show_progress, **kwargs)\u001B[39m\n\u001B[32m    134\u001B[39m     \u001B[38;5;28;01mraise\u001B[39;00m \u001B[38;5;167;01mValueError\u001B[39;00m(\n\u001B[32m    135\u001B[39m         \u001B[33m\"\u001B[39m\u001B[33masync_req is not supported when batch_size is provided.\u001B[39m\u001B[33m\"\u001B[39m\n\u001B[32m    136\u001B[39m         \u001B[33m\"\u001B[39m\u001B[33mTo upsert in parallel, please follow: \u001B[39m\u001B[33m\"\u001B[39m\n\u001B[32m    137\u001B[39m         \u001B[33m\"\u001B[39m\u001B[33mhttps://docs.pinecone.io/docs/insert-data#sending-upserts-in-parallel\u001B[39m\u001B[33m\"\u001B[39m\n\u001B[32m    138\u001B[39m     )\n\u001B[32m    140\u001B[39m \u001B[38;5;28;01mif\u001B[39;00m batch_size \u001B[38;5;129;01mis\u001B[39;00m \u001B[38;5;28;01mNone\u001B[39;00m:\n\u001B[32m--> \u001B[39m\u001B[32m141\u001B[39m     \u001B[38;5;28;01mreturn\u001B[39;00m \u001B[38;5;28;43mself\u001B[39;49m\u001B[43m.\u001B[49m\u001B[43m_upsert_batch\u001B[49m\u001B[43m(\u001B[49m\u001B[43mvectors\u001B[49m\u001B[43m,\u001B[49m\u001B[43m \u001B[49m\u001B[43mnamespace\u001B[49m\u001B[43m,\u001B[49m\u001B[43m \u001B[49m\u001B[43m_check_type\u001B[49m\u001B[43m,\u001B[49m\u001B[43m \u001B[49m\u001B[43m*\u001B[49m\u001B[43m*\u001B[49m\u001B[43mkwargs\u001B[49m\u001B[43m)\u001B[49m\n\u001B[32m    143\u001B[39m \u001B[38;5;28;01mif\u001B[39;00m \u001B[38;5;129;01mnot\u001B[39;00m \u001B[38;5;28misinstance\u001B[39m(batch_size, \u001B[38;5;28mint\u001B[39m) \u001B[38;5;129;01mor\u001B[39;00m batch_size <= \u001B[32m0\u001B[39m:\n\u001B[32m    144\u001B[39m     \u001B[38;5;28;01mraise\u001B[39;00m \u001B[38;5;167;01mValueError\u001B[39;00m(\u001B[33m\"\u001B[39m\u001B[33mbatch_size must be a positive integer\u001B[39m\u001B[33m\"\u001B[39m)\n",
      "\u001B[36mFile \u001B[39m\u001B[32m/media/mark/data/markkerzner/MosesAI/myenv/lib/python3.12/site-packages/pinecone/data/index.py:167\u001B[39m, in \u001B[36mIndex._upsert_batch\u001B[39m\u001B[34m(self, vectors, namespace, _check_type, **kwargs)\u001B[39m\n\u001B[32m    158\u001B[39m \u001B[38;5;28;01mdef\u001B[39;00m\u001B[38;5;250m \u001B[39m\u001B[34m_upsert_batch\u001B[39m(\n\u001B[32m    159\u001B[39m     \u001B[38;5;28mself\u001B[39m,\n\u001B[32m    160\u001B[39m     vectors: Union[\n\u001B[32m   (...)\u001B[39m\u001B[32m    165\u001B[39m     **kwargs,\n\u001B[32m    166\u001B[39m ) -> UpsertResponse:\n\u001B[32m--> \u001B[39m\u001B[32m167\u001B[39m     \u001B[38;5;28;01mreturn\u001B[39;00m \u001B[38;5;28;43mself\u001B[39;49m\u001B[43m.\u001B[49m\u001B[43m_vector_api\u001B[49m\u001B[43m.\u001B[49m\u001B[43mupsert_vectors\u001B[49m\u001B[43m(\u001B[49m\n\u001B[32m    168\u001B[39m \u001B[43m        \u001B[49m\u001B[43mIndexRequestFactory\u001B[49m\u001B[43m.\u001B[49m\u001B[43mupsert_request\u001B[49m\u001B[43m(\u001B[49m\u001B[43mvectors\u001B[49m\u001B[43m,\u001B[49m\u001B[43m \u001B[49m\u001B[43mnamespace\u001B[49m\u001B[43m,\u001B[49m\u001B[43m \u001B[49m\u001B[43m_check_type\u001B[49m\u001B[43m,\u001B[49m\u001B[43m \u001B[49m\u001B[43m*\u001B[49m\u001B[43m*\u001B[49m\u001B[43mkwargs\u001B[49m\u001B[43m)\u001B[49m\u001B[43m,\u001B[49m\n\u001B[32m    169\u001B[39m \u001B[43m        \u001B[49m\u001B[43m*\u001B[49m\u001B[43m*\u001B[49m\u001B[38;5;28;43mself\u001B[39;49m\u001B[43m.\u001B[49m\u001B[43m_openapi_kwargs\u001B[49m\u001B[43m(\u001B[49m\u001B[43mkwargs\u001B[49m\u001B[43m)\u001B[49m\u001B[43m,\u001B[49m\n\u001B[32m    170\u001B[39m \u001B[43m    \u001B[49m\u001B[43m)\u001B[49m\n",
      "\u001B[36mFile \u001B[39m\u001B[32m/media/mark/data/markkerzner/MosesAI/myenv/lib/python3.12/site-packages/pinecone/openapi_support/endpoint.py:102\u001B[39m, in \u001B[36mEndpoint.__call__\u001B[39m\u001B[34m(self, *args, **kwargs)\u001B[39m\n\u001B[32m     91\u001B[39m \u001B[38;5;28;01mdef\u001B[39;00m\u001B[38;5;250m \u001B[39m\u001B[34m__call__\u001B[39m(\u001B[38;5;28mself\u001B[39m, *args, **kwargs):\n\u001B[32m     92\u001B[39m \u001B[38;5;250m    \u001B[39m\u001B[33;03m\"\"\"This method is invoked when endpoints are called\u001B[39;00m\n\u001B[32m     93\u001B[39m \u001B[33;03m    Example:\u001B[39;00m\n\u001B[32m     94\u001B[39m \n\u001B[32m   (...)\u001B[39m\u001B[32m    100\u001B[39m \n\u001B[32m    101\u001B[39m \u001B[33;03m    \"\"\"\u001B[39;00m\n\u001B[32m--> \u001B[39m\u001B[32m102\u001B[39m     \u001B[38;5;28;01mreturn\u001B[39;00m \u001B[38;5;28;43mself\u001B[39;49m\u001B[43m.\u001B[49m\u001B[43mcallable\u001B[49m\u001B[43m(\u001B[49m\u001B[38;5;28;43mself\u001B[39;49m\u001B[43m,\u001B[49m\u001B[43m \u001B[49m\u001B[43m*\u001B[49m\u001B[43margs\u001B[49m\u001B[43m,\u001B[49m\u001B[43m \u001B[49m\u001B[43m*\u001B[49m\u001B[43m*\u001B[49m\u001B[43mkwargs\u001B[49m\u001B[43m)\u001B[49m\n",
      "\u001B[36mFile \u001B[39m\u001B[32m/media/mark/data/markkerzner/MosesAI/myenv/lib/python3.12/site-packages/pinecone/core/openapi/db_data/api/vector_operations_api.py:675\u001B[39m, in \u001B[36mVectorOperationsApi.__init__.<locals>.__upsert_vectors\u001B[39m\u001B[34m(self, upsert_request, **kwargs)\u001B[39m\n\u001B[32m    673\u001B[39m kwargs = \u001B[38;5;28mself\u001B[39m._process_openapi_kwargs(kwargs)\n\u001B[32m    674\u001B[39m kwargs[\u001B[33m\"\u001B[39m\u001B[33mupsert_request\u001B[39m\u001B[33m\"\u001B[39m] = upsert_request\n\u001B[32m--> \u001B[39m\u001B[32m675\u001B[39m \u001B[38;5;28;01mreturn\u001B[39;00m \u001B[38;5;28;43mself\u001B[39;49m\u001B[43m.\u001B[49m\u001B[43mcall_with_http_info\u001B[49m\u001B[43m(\u001B[49m\u001B[43m*\u001B[49m\u001B[43m*\u001B[49m\u001B[43mkwargs\u001B[49m\u001B[43m)\u001B[49m\n",
      "\u001B[36mFile \u001B[39m\u001B[32m/media/mark/data/markkerzner/MosesAI/myenv/lib/python3.12/site-packages/pinecone/openapi_support/endpoint.py:134\u001B[39m, in \u001B[36mEndpoint.call_with_http_info\u001B[39m\u001B[34m(self, **kwargs)\u001B[39m\n\u001B[32m    124\u001B[39m params = EndpointUtils.gather_params(\n\u001B[32m    125\u001B[39m     attribute_map=\u001B[38;5;28mself\u001B[39m.attribute_map,\n\u001B[32m    126\u001B[39m     location_map=\u001B[38;5;28mself\u001B[39m.location_map,\n\u001B[32m   (...)\u001B[39m\u001B[32m    129\u001B[39m     kwargs=kwargs,\n\u001B[32m    130\u001B[39m )\n\u001B[32m    132\u001B[39m HeaderUtil.prepare_headers(headers_map=\u001B[38;5;28mself\u001B[39m.headers_map, params=params)\n\u001B[32m--> \u001B[39m\u001B[32m134\u001B[39m \u001B[38;5;28;01mreturn\u001B[39;00m \u001B[38;5;28;43mself\u001B[39;49m\u001B[43m.\u001B[49m\u001B[43mapi_client\u001B[49m\u001B[43m.\u001B[49m\u001B[43mcall_api\u001B[49m\u001B[43m(\u001B[49m\n\u001B[32m    135\u001B[39m \u001B[43m    \u001B[49m\u001B[38;5;28;43mself\u001B[39;49m\u001B[43m.\u001B[49m\u001B[43msettings\u001B[49m\u001B[43m[\u001B[49m\u001B[33;43m\"\u001B[39;49m\u001B[33;43mendpoint_path\u001B[39;49m\u001B[33;43m\"\u001B[39;49m\u001B[43m]\u001B[49m\u001B[43m,\u001B[49m\n\u001B[32m    136\u001B[39m \u001B[43m    \u001B[49m\u001B[38;5;28;43mself\u001B[39;49m\u001B[43m.\u001B[49m\u001B[43msettings\u001B[49m\u001B[43m[\u001B[49m\u001B[33;43m\"\u001B[39;49m\u001B[33;43mhttp_method\u001B[39;49m\u001B[33;43m\"\u001B[39;49m\u001B[43m]\u001B[49m\u001B[43m,\u001B[49m\n\u001B[32m    137\u001B[39m \u001B[43m    \u001B[49m\u001B[43mpath_params\u001B[49m\u001B[43m=\u001B[49m\u001B[43mparams\u001B[49m\u001B[43m[\u001B[49m\u001B[33;43m\"\u001B[39;49m\u001B[33;43mpath\u001B[39;49m\u001B[33;43m\"\u001B[39;49m\u001B[43m]\u001B[49m\u001B[43m,\u001B[49m\n\u001B[32m    138\u001B[39m \u001B[43m    \u001B[49m\u001B[43mquery_params\u001B[49m\u001B[43m=\u001B[49m\u001B[43mparams\u001B[49m\u001B[43m[\u001B[49m\u001B[33;43m\"\u001B[39;49m\u001B[33;43mquery\u001B[39;49m\u001B[33;43m\"\u001B[39;49m\u001B[43m]\u001B[49m\u001B[43m,\u001B[49m\n\u001B[32m    139\u001B[39m \u001B[43m    \u001B[49m\u001B[43mheader_params\u001B[49m\u001B[43m=\u001B[49m\u001B[43mparams\u001B[49m\u001B[43m[\u001B[49m\u001B[33;43m\"\u001B[39;49m\u001B[33;43mheader\u001B[39;49m\u001B[33;43m\"\u001B[39;49m\u001B[43m]\u001B[49m\u001B[43m,\u001B[49m\n\u001B[32m    140\u001B[39m \u001B[43m    \u001B[49m\u001B[43mbody\u001B[49m\u001B[43m=\u001B[49m\u001B[43mparams\u001B[49m\u001B[43m[\u001B[49m\u001B[33;43m\"\u001B[39;49m\u001B[33;43mbody\u001B[39;49m\u001B[33;43m\"\u001B[39;49m\u001B[43m]\u001B[49m\u001B[43m,\u001B[49m\n\u001B[32m    141\u001B[39m \u001B[43m    \u001B[49m\u001B[43mpost_params\u001B[49m\u001B[43m=\u001B[49m\u001B[43mparams\u001B[49m\u001B[43m[\u001B[49m\u001B[33;43m\"\u001B[39;49m\u001B[33;43mform\u001B[39;49m\u001B[33;43m\"\u001B[39;49m\u001B[43m]\u001B[49m\u001B[43m,\u001B[49m\n\u001B[32m    142\u001B[39m \u001B[43m    \u001B[49m\u001B[43mfiles\u001B[49m\u001B[43m=\u001B[49m\u001B[43mparams\u001B[49m\u001B[43m[\u001B[49m\u001B[33;43m\"\u001B[39;49m\u001B[33;43mfile\u001B[39;49m\u001B[33;43m\"\u001B[39;49m\u001B[43m]\u001B[49m\u001B[43m,\u001B[49m\n\u001B[32m    143\u001B[39m \u001B[43m    \u001B[49m\u001B[43mresponse_type\u001B[49m\u001B[43m=\u001B[49m\u001B[38;5;28;43mself\u001B[39;49m\u001B[43m.\u001B[49m\u001B[43msettings\u001B[49m\u001B[43m[\u001B[49m\u001B[33;43m\"\u001B[39;49m\u001B[33;43mresponse_type\u001B[39;49m\u001B[33;43m\"\u001B[39;49m\u001B[43m]\u001B[49m\u001B[43m,\u001B[49m\n\u001B[32m    144\u001B[39m \u001B[43m    \u001B[49m\u001B[43mauth_settings\u001B[49m\u001B[43m=\u001B[49m\u001B[38;5;28;43mself\u001B[39;49m\u001B[43m.\u001B[49m\u001B[43msettings\u001B[49m\u001B[43m[\u001B[49m\u001B[33;43m\"\u001B[39;49m\u001B[33;43mauth\u001B[39;49m\u001B[33;43m\"\u001B[39;49m\u001B[43m]\u001B[49m\u001B[43m,\u001B[49m\n\u001B[32m    145\u001B[39m \u001B[43m    \u001B[49m\u001B[43masync_req\u001B[49m\u001B[43m=\u001B[49m\u001B[43mkwargs\u001B[49m\u001B[43m[\u001B[49m\u001B[33;43m\"\u001B[39;49m\u001B[33;43masync_req\u001B[39;49m\u001B[33;43m\"\u001B[39;49m\u001B[43m]\u001B[49m\u001B[43m,\u001B[49m\n\u001B[32m    146\u001B[39m \u001B[43m    \u001B[49m\u001B[43masync_threadpool_executor\u001B[49m\u001B[43m=\u001B[49m\u001B[43mkwargs\u001B[49m\u001B[43m.\u001B[49m\u001B[43mget\u001B[49m\u001B[43m(\u001B[49m\u001B[33;43m\"\u001B[39;49m\u001B[33;43masync_threadpool_executor\u001B[39;49m\u001B[33;43m\"\u001B[39;49m\u001B[43m,\u001B[49m\u001B[43m \u001B[49m\u001B[38;5;28;43;01mNone\u001B[39;49;00m\u001B[43m)\u001B[49m\u001B[43m,\u001B[49m\n\u001B[32m    147\u001B[39m \u001B[43m    \u001B[49m\u001B[43m_check_type\u001B[49m\u001B[43m=\u001B[49m\u001B[43mkwargs\u001B[49m\u001B[43m[\u001B[49m\u001B[33;43m\"\u001B[39;49m\u001B[33;43m_check_return_type\u001B[39;49m\u001B[33;43m\"\u001B[39;49m\u001B[43m]\u001B[49m\u001B[43m,\u001B[49m\n\u001B[32m    148\u001B[39m \u001B[43m    \u001B[49m\u001B[43m_return_http_data_only\u001B[49m\u001B[43m=\u001B[49m\u001B[43mkwargs\u001B[49m\u001B[43m[\u001B[49m\u001B[33;43m\"\u001B[39;49m\u001B[33;43m_return_http_data_only\u001B[39;49m\u001B[33;43m\"\u001B[39;49m\u001B[43m]\u001B[49m\u001B[43m,\u001B[49m\n\u001B[32m    149\u001B[39m \u001B[43m    \u001B[49m\u001B[43m_preload_content\u001B[49m\u001B[43m=\u001B[49m\u001B[43mkwargs\u001B[49m\u001B[43m[\u001B[49m\u001B[33;43m\"\u001B[39;49m\u001B[33;43m_preload_content\u001B[39;49m\u001B[33;43m\"\u001B[39;49m\u001B[43m]\u001B[49m\u001B[43m,\u001B[49m\n\u001B[32m    150\u001B[39m \u001B[43m    \u001B[49m\u001B[43m_request_timeout\u001B[49m\u001B[43m=\u001B[49m\u001B[43mkwargs\u001B[49m\u001B[43m[\u001B[49m\u001B[33;43m\"\u001B[39;49m\u001B[33;43m_request_timeout\u001B[39;49m\u001B[33;43m\"\u001B[39;49m\u001B[43m]\u001B[49m\u001B[43m,\u001B[49m\n\u001B[32m    151\u001B[39m \u001B[43m    \u001B[49m\u001B[43m_host\u001B[49m\u001B[43m=\u001B[49m\u001B[43m_host\u001B[49m\u001B[43m,\u001B[49m\n\u001B[32m    152\u001B[39m \u001B[43m    \u001B[49m\u001B[43mcollection_formats\u001B[49m\u001B[43m=\u001B[49m\u001B[43mparams\u001B[49m\u001B[43m[\u001B[49m\u001B[33;43m\"\u001B[39;49m\u001B[33;43mcollection_format\u001B[39;49m\u001B[33;43m\"\u001B[39;49m\u001B[43m]\u001B[49m\u001B[43m,\u001B[49m\n\u001B[32m    153\u001B[39m \u001B[43m\u001B[49m\u001B[43m)\u001B[49m\n",
      "\u001B[36mFile \u001B[39m\u001B[32m/media/mark/data/markkerzner/MosesAI/myenv/lib/python3.12/site-packages/pinecone/openapi_support/api_client.py:300\u001B[39m, in \u001B[36mApiClient.call_api\u001B[39m\u001B[34m(self, resource_path, method, path_params, query_params, header_params, body, post_params, files, response_type, auth_settings, async_req, async_threadpool_executor, _return_http_data_only, collection_formats, _preload_content, _request_timeout, _host, _check_type)\u001B[39m\n\u001B[32m    279\u001B[39m     \u001B[38;5;28;01mreturn\u001B[39;00m \u001B[38;5;28mself\u001B[39m.threadpool_executor.submit(\n\u001B[32m    280\u001B[39m         \u001B[38;5;28mself\u001B[39m.__call_api,\n\u001B[32m    281\u001B[39m         resource_path,\n\u001B[32m   (...)\u001B[39m\u001B[32m    296\u001B[39m         _check_type,\n\u001B[32m    297\u001B[39m     )\n\u001B[32m    299\u001B[39m \u001B[38;5;28;01mif\u001B[39;00m \u001B[38;5;129;01mnot\u001B[39;00m async_req:\n\u001B[32m--> \u001B[39m\u001B[32m300\u001B[39m     \u001B[38;5;28;01mreturn\u001B[39;00m \u001B[38;5;28;43mself\u001B[39;49m\u001B[43m.\u001B[49m\u001B[43m__call_api\u001B[49m\u001B[43m(\u001B[49m\n\u001B[32m    301\u001B[39m \u001B[43m        \u001B[49m\u001B[43mresource_path\u001B[49m\u001B[43m,\u001B[49m\n\u001B[32m    302\u001B[39m \u001B[43m        \u001B[49m\u001B[43mmethod\u001B[49m\u001B[43m,\u001B[49m\n\u001B[32m    303\u001B[39m \u001B[43m        \u001B[49m\u001B[43mpath_params\u001B[49m\u001B[43m,\u001B[49m\n\u001B[32m    304\u001B[39m \u001B[43m        \u001B[49m\u001B[43mquery_params\u001B[49m\u001B[43m,\u001B[49m\n\u001B[32m    305\u001B[39m \u001B[43m        \u001B[49m\u001B[43mheader_params\u001B[49m\u001B[43m,\u001B[49m\n\u001B[32m    306\u001B[39m \u001B[43m        \u001B[49m\u001B[43mbody\u001B[49m\u001B[43m,\u001B[49m\n\u001B[32m    307\u001B[39m \u001B[43m        \u001B[49m\u001B[43mpost_params\u001B[49m\u001B[43m,\u001B[49m\n\u001B[32m    308\u001B[39m \u001B[43m        \u001B[49m\u001B[43mfiles\u001B[49m\u001B[43m,\u001B[49m\n\u001B[32m    309\u001B[39m \u001B[43m        \u001B[49m\u001B[43mresponse_type\u001B[49m\u001B[43m,\u001B[49m\n\u001B[32m    310\u001B[39m \u001B[43m        \u001B[49m\u001B[43mauth_settings\u001B[49m\u001B[43m,\u001B[49m\n\u001B[32m    311\u001B[39m \u001B[43m        \u001B[49m\u001B[43m_return_http_data_only\u001B[49m\u001B[43m,\u001B[49m\n\u001B[32m    312\u001B[39m \u001B[43m        \u001B[49m\u001B[43mcollection_formats\u001B[49m\u001B[43m,\u001B[49m\n\u001B[32m    313\u001B[39m \u001B[43m        \u001B[49m\u001B[43m_preload_content\u001B[49m\u001B[43m,\u001B[49m\n\u001B[32m    314\u001B[39m \u001B[43m        \u001B[49m\u001B[43m_request_timeout\u001B[49m\u001B[43m,\u001B[49m\n\u001B[32m    315\u001B[39m \u001B[43m        \u001B[49m\u001B[43m_host\u001B[49m\u001B[43m,\u001B[49m\n\u001B[32m    316\u001B[39m \u001B[43m        \u001B[49m\u001B[43m_check_type\u001B[49m\u001B[43m,\u001B[49m\n\u001B[32m    317\u001B[39m \u001B[43m    \u001B[49m\u001B[43m)\u001B[49m\n\u001B[32m    319\u001B[39m \u001B[38;5;28;01mreturn\u001B[39;00m \u001B[38;5;28mself\u001B[39m.pool.apply_async(\n\u001B[32m    320\u001B[39m     \u001B[38;5;28mself\u001B[39m.__call_api,\n\u001B[32m    321\u001B[39m     (\n\u001B[32m   (...)\u001B[39m\u001B[32m    338\u001B[39m     ),\n\u001B[32m    339\u001B[39m )\n",
      "\u001B[36mFile \u001B[39m\u001B[32m/media/mark/data/markkerzner/MosesAI/myenv/lib/python3.12/site-packages/pinecone/openapi_support/api_client.py:178\u001B[39m, in \u001B[36mApiClient.__call_api\u001B[39m\u001B[34m(self, resource_path, method, path_params, query_params, header_params, body, post_params, files, response_type, auth_settings, _return_http_data_only, collection_formats, _preload_content, _request_timeout, _host, _check_type)\u001B[39m\n\u001B[32m    176\u001B[39m \u001B[38;5;28;01mexcept\u001B[39;00m PineconeApiException \u001B[38;5;28;01mas\u001B[39;00m e:\n\u001B[32m    177\u001B[39m     e.body = e.body.decode(\u001B[33m\"\u001B[39m\u001B[33mutf-8\u001B[39m\u001B[33m\"\u001B[39m)\n\u001B[32m--> \u001B[39m\u001B[32m178\u001B[39m     \u001B[38;5;28;01mraise\u001B[39;00m e\n\u001B[32m    180\u001B[39m \u001B[38;5;28mself\u001B[39m.last_response = response_data\n\u001B[32m    182\u001B[39m return_data = response_data\n",
      "\u001B[36mFile \u001B[39m\u001B[32m/media/mark/data/markkerzner/MosesAI/myenv/lib/python3.12/site-packages/pinecone/openapi_support/api_client.py:166\u001B[39m, in \u001B[36mApiClient.__call_api\u001B[39m\u001B[34m(self, resource_path, method, path_params, query_params, header_params, body, post_params, files, response_type, auth_settings, _return_http_data_only, collection_formats, _preload_content, _request_timeout, _host, _check_type)\u001B[39m\n\u001B[32m    157\u001B[39m url = build_request_url(\n\u001B[32m    158\u001B[39m     config=config,\n\u001B[32m    159\u001B[39m     processed_path_params=path_params_tuple,\n\u001B[32m    160\u001B[39m     resource_path=resource_path,\n\u001B[32m    161\u001B[39m     _host=_host,\n\u001B[32m    162\u001B[39m )\n\u001B[32m    164\u001B[39m \u001B[38;5;28;01mtry\u001B[39;00m:\n\u001B[32m    165\u001B[39m     \u001B[38;5;66;03m# perform request and return response\u001B[39;00m\n\u001B[32m--> \u001B[39m\u001B[32m166\u001B[39m     response_data = \u001B[38;5;28;43mself\u001B[39;49m\u001B[43m.\u001B[49m\u001B[43mrequest\u001B[49m\u001B[43m(\u001B[49m\n\u001B[32m    167\u001B[39m \u001B[43m        \u001B[49m\u001B[43mmethod\u001B[49m\u001B[43m,\u001B[49m\n\u001B[32m    168\u001B[39m \u001B[43m        \u001B[49m\u001B[43murl\u001B[49m\u001B[43m,\u001B[49m\n\u001B[32m    169\u001B[39m \u001B[43m        \u001B[49m\u001B[43mquery_params\u001B[49m\u001B[43m=\u001B[49m\u001B[43mprocessed_query_params\u001B[49m\u001B[43m,\u001B[49m\n\u001B[32m    170\u001B[39m \u001B[43m        \u001B[49m\u001B[43mheaders\u001B[49m\u001B[43m=\u001B[49m\u001B[43mheaders_tuple\u001B[49m\u001B[43m,\u001B[49m\n\u001B[32m    171\u001B[39m \u001B[43m        \u001B[49m\u001B[43mpost_params\u001B[49m\u001B[43m=\u001B[49m\u001B[43mprocessed_post_params\u001B[49m\u001B[43m,\u001B[49m\n\u001B[32m    172\u001B[39m \u001B[43m        \u001B[49m\u001B[43mbody\u001B[49m\u001B[43m=\u001B[49m\u001B[43mbody\u001B[49m\u001B[43m,\u001B[49m\n\u001B[32m    173\u001B[39m \u001B[43m        \u001B[49m\u001B[43m_preload_content\u001B[49m\u001B[43m=\u001B[49m\u001B[43m_preload_content\u001B[49m\u001B[43m,\u001B[49m\n\u001B[32m    174\u001B[39m \u001B[43m        \u001B[49m\u001B[43m_request_timeout\u001B[49m\u001B[43m=\u001B[49m\u001B[43m_request_timeout\u001B[49m\u001B[43m,\u001B[49m\n\u001B[32m    175\u001B[39m \u001B[43m    \u001B[49m\u001B[43m)\u001B[49m\n\u001B[32m    176\u001B[39m \u001B[38;5;28;01mexcept\u001B[39;00m PineconeApiException \u001B[38;5;28;01mas\u001B[39;00m e:\n\u001B[32m    177\u001B[39m     e.body = e.body.decode(\u001B[33m\"\u001B[39m\u001B[33mutf-8\u001B[39m\u001B[33m\"\u001B[39m)\n",
      "\u001B[36mFile \u001B[39m\u001B[32m/media/mark/data/markkerzner/MosesAI/myenv/lib/python3.12/site-packages/pinecone/openapi_support/api_client.py:380\u001B[39m, in \u001B[36mApiClient.request\u001B[39m\u001B[34m(self, method, url, query_params, headers, post_params, body, _preload_content, _request_timeout)\u001B[39m\n\u001B[32m    370\u001B[39m     \u001B[38;5;28;01mreturn\u001B[39;00m \u001B[38;5;28mself\u001B[39m.rest_client.OPTIONS(\n\u001B[32m    371\u001B[39m         url,\n\u001B[32m    372\u001B[39m         query_params=query_params,\n\u001B[32m   (...)\u001B[39m\u001B[32m    377\u001B[39m         body=body,\n\u001B[32m    378\u001B[39m     )\n\u001B[32m    379\u001B[39m \u001B[38;5;28;01melif\u001B[39;00m method == \u001B[33m\"\u001B[39m\u001B[33mPOST\u001B[39m\u001B[33m\"\u001B[39m:\n\u001B[32m--> \u001B[39m\u001B[32m380\u001B[39m     \u001B[38;5;28;01mreturn\u001B[39;00m \u001B[38;5;28;43mself\u001B[39;49m\u001B[43m.\u001B[49m\u001B[43mrest_client\u001B[49m\u001B[43m.\u001B[49m\u001B[43mPOST\u001B[49m\u001B[43m(\u001B[49m\n\u001B[32m    381\u001B[39m \u001B[43m        \u001B[49m\u001B[43murl\u001B[49m\u001B[43m,\u001B[49m\n\u001B[32m    382\u001B[39m \u001B[43m        \u001B[49m\u001B[43mquery_params\u001B[49m\u001B[43m=\u001B[49m\u001B[43mquery_params\u001B[49m\u001B[43m,\u001B[49m\n\u001B[32m    383\u001B[39m \u001B[43m        \u001B[49m\u001B[43mheaders\u001B[49m\u001B[43m=\u001B[49m\u001B[43mheaders\u001B[49m\u001B[43m,\u001B[49m\n\u001B[32m    384\u001B[39m \u001B[43m        \u001B[49m\u001B[43mpost_params\u001B[49m\u001B[43m=\u001B[49m\u001B[43mpost_params\u001B[49m\u001B[43m,\u001B[49m\n\u001B[32m    385\u001B[39m \u001B[43m        \u001B[49m\u001B[43m_preload_content\u001B[49m\u001B[43m=\u001B[49m\u001B[43m_preload_content\u001B[49m\u001B[43m,\u001B[49m\n\u001B[32m    386\u001B[39m \u001B[43m        \u001B[49m\u001B[43m_request_timeout\u001B[49m\u001B[43m=\u001B[49m\u001B[43m_request_timeout\u001B[49m\u001B[43m,\u001B[49m\n\u001B[32m    387\u001B[39m \u001B[43m        \u001B[49m\u001B[43mbody\u001B[49m\u001B[43m=\u001B[49m\u001B[43mbody\u001B[49m\u001B[43m,\u001B[49m\n\u001B[32m    388\u001B[39m \u001B[43m    \u001B[49m\u001B[43m)\u001B[49m\n\u001B[32m    389\u001B[39m \u001B[38;5;28;01melif\u001B[39;00m method == \u001B[33m\"\u001B[39m\u001B[33mPUT\u001B[39m\u001B[33m\"\u001B[39m:\n\u001B[32m    390\u001B[39m     \u001B[38;5;28;01mreturn\u001B[39;00m \u001B[38;5;28mself\u001B[39m.rest_client.PUT(\n\u001B[32m    391\u001B[39m         url,\n\u001B[32m    392\u001B[39m         query_params=query_params,\n\u001B[32m   (...)\u001B[39m\u001B[32m    397\u001B[39m         body=body,\n\u001B[32m    398\u001B[39m     )\n",
      "\u001B[36mFile \u001B[39m\u001B[32m/media/mark/data/markkerzner/MosesAI/myenv/lib/python3.12/site-packages/pinecone/openapi_support/rest_utils.py:146\u001B[39m, in \u001B[36mRestClientInterface.POST\u001B[39m\u001B[34m(self, url, headers, query_params, post_params, body, _preload_content, _request_timeout)\u001B[39m\n\u001B[32m    136\u001B[39m \u001B[38;5;28;01mdef\u001B[39;00m\u001B[38;5;250m \u001B[39m\u001B[34mPOST\u001B[39m(\n\u001B[32m    137\u001B[39m     \u001B[38;5;28mself\u001B[39m,\n\u001B[32m    138\u001B[39m     url,\n\u001B[32m   (...)\u001B[39m\u001B[32m    144\u001B[39m     _request_timeout=\u001B[38;5;28;01mNone\u001B[39;00m,\n\u001B[32m    145\u001B[39m ):\n\u001B[32m--> \u001B[39m\u001B[32m146\u001B[39m     \u001B[38;5;28;01mreturn\u001B[39;00m \u001B[38;5;28;43mself\u001B[39;49m\u001B[43m.\u001B[49m\u001B[43mrequest\u001B[49m\u001B[43m(\u001B[49m\n\u001B[32m    147\u001B[39m \u001B[43m        \u001B[49m\u001B[33;43m\"\u001B[39;49m\u001B[33;43mPOST\u001B[39;49m\u001B[33;43m\"\u001B[39;49m\u001B[43m,\u001B[49m\n\u001B[32m    148\u001B[39m \u001B[43m        \u001B[49m\u001B[43murl\u001B[49m\u001B[43m,\u001B[49m\n\u001B[32m    149\u001B[39m \u001B[43m        \u001B[49m\u001B[43mheaders\u001B[49m\u001B[43m=\u001B[49m\u001B[43mheaders\u001B[49m\u001B[43m,\u001B[49m\n\u001B[32m    150\u001B[39m \u001B[43m        \u001B[49m\u001B[43mquery_params\u001B[49m\u001B[43m=\u001B[49m\u001B[43mquery_params\u001B[49m\u001B[43m,\u001B[49m\n\u001B[32m    151\u001B[39m \u001B[43m        \u001B[49m\u001B[43mpost_params\u001B[49m\u001B[43m=\u001B[49m\u001B[43mpost_params\u001B[49m\u001B[43m,\u001B[49m\n\u001B[32m    152\u001B[39m \u001B[43m        \u001B[49m\u001B[43m_preload_content\u001B[49m\u001B[43m=\u001B[49m\u001B[43m_preload_content\u001B[49m\u001B[43m,\u001B[49m\n\u001B[32m    153\u001B[39m \u001B[43m        \u001B[49m\u001B[43m_request_timeout\u001B[49m\u001B[43m=\u001B[49m\u001B[43m_request_timeout\u001B[49m\u001B[43m,\u001B[49m\n\u001B[32m    154\u001B[39m \u001B[43m        \u001B[49m\u001B[43mbody\u001B[49m\u001B[43m=\u001B[49m\u001B[43mbody\u001B[49m\u001B[43m,\u001B[49m\n\u001B[32m    155\u001B[39m \u001B[43m    \u001B[49m\u001B[43m)\u001B[49m\n",
      "\u001B[36mFile \u001B[39m\u001B[32m/media/mark/data/markkerzner/MosesAI/myenv/lib/python3.12/site-packages/pinecone/openapi_support/rest_urllib3.py:260\u001B[39m, in \u001B[36mUrllib3RestClient.request\u001B[39m\u001B[34m(self, method, url, query_params, headers, body, post_params, _preload_content, _request_timeout)\u001B[39m\n\u001B[32m    257\u001B[39m     \u001B[38;5;66;03m# log response body\u001B[39;00m\n\u001B[32m    258\u001B[39m     logger.debug(\u001B[33m\"\u001B[39m\u001B[33mresponse body: \u001B[39m\u001B[38;5;132;01m%s\u001B[39;00m\u001B[33m\"\u001B[39m, r.data)\n\u001B[32m--> \u001B[39m\u001B[32m260\u001B[39m \u001B[38;5;28;01mreturn\u001B[39;00m \u001B[43mraise_exceptions_or_return\u001B[49m\u001B[43m(\u001B[49m\u001B[43mr\u001B[49m\u001B[43m)\u001B[49m\n",
      "\u001B[36mFile \u001B[39m\u001B[32m/media/mark/data/markkerzner/MosesAI/myenv/lib/python3.12/site-packages/pinecone/openapi_support/rest_utils.py:49\u001B[39m, in \u001B[36mraise_exceptions_or_return\u001B[39m\u001B[34m(r)\u001B[39m\n\u001B[32m     46\u001B[39m     \u001B[38;5;28;01mif\u001B[39;00m \u001B[32m500\u001B[39m <= r.status <= \u001B[32m599\u001B[39m:\n\u001B[32m     47\u001B[39m         \u001B[38;5;28;01mraise\u001B[39;00m ServiceException(http_resp=r)\n\u001B[32m---> \u001B[39m\u001B[32m49\u001B[39m     \u001B[38;5;28;01mraise\u001B[39;00m PineconeApiException(http_resp=r)\n\u001B[32m     51\u001B[39m \u001B[38;5;28;01mreturn\u001B[39;00m r\n",
      "\u001B[31mPineconeApiException\u001B[39m: (429)\nReason: Too Many Requests\nHTTP response headers: HTTPHeaderDict({'content-type': 'application/json', 'date': 'Tue, 27 May 2025 00:55:21 GMT', 'x-envoy-upstream-service-time': '60', 'content-length': '135', 'server': 'envoy'})\nHTTP response body: {\"code\":8,\"message\":\"Your request is larger than the maximum supported size - 2MB. Please try to reduce your batch size.\",\"details\":[]}\n"
     ]
    }
   ],
   "source": [
    "embeddings = OpenAIEmbeddings(model='text-embedding-3-small')\n",
    "dim = len(embeddings.embed_query('ping'))\n",
    "\n",
    "pc = PineconeClient(api_key=PINECONE_API_KEY)\n",
    "index_name = 'talmud-pages'\n",
    "if index_name not in pc.list_indexes().names():\n",
    "    pc.create_index(index_name, dimension=dim, metric='cosine')\n",
    "\n",
    "MAX_LEN = 8000  # characters\n",
    "chunks = [doc for doc in chunks if len(doc.page_content) < MAX_LEN]\n",
    "\n",
    "vectorstore = PineconeVectorStore.from_documents(\n",
    "    documents=chunks,\n",
    "    embedding=embeddings,\n",
    "    index_name=index_name,\n",
    "    pinecone_api_key=os.getenv(\"PINECONE_API_KEY\"),\n",
    "    namespace=None,     # optional\n",
    "    batch_size=1       # 👈 this fixes the 2MB error\n",
    ")\n",
    "print('Vectorstore ready')\n"
   ]
  },
  {
   "cell_type": "markdown",
   "id": "f3383261",
   "metadata": {},
   "source": [
    "## 3  Query"
   ]
  },
  {
   "cell_type": "code",
   "execution_count": null,
   "id": "cad12290",
   "metadata": {},
   "outputs": [],
   "source": [
    "\n",
    "retriever = vectorstore.as_retriever(search_kwargs={'k':4})\n",
    "llm = ChatOpenAI(model='gpt-4o-mini')\n",
    "\n",
    "qa = RetrievalQA.from_chain_type(\n",
    "    llm=llm,\n",
    "    chain_type='stuff',\n",
    "    retriever=retriever,\n",
    "    return_source_documents=True\n",
    ")\n",
    "\n",
    "print(qa({'query':'When do you say Shema?'})['result'])\n"
   ]
  },
  {
   "cell_type": "code",
   "execution_count": null,
   "id": "e76fa442-d520-41f0-a8f6-da5d268094a4",
   "metadata": {},
   "outputs": [],
   "source": []
  },
  {
   "cell_type": "code",
   "execution_count": null,
   "id": "cef59b22-77a5-4c8c-a1e5-4fa80dd03f59",
   "metadata": {},
   "outputs": [],
   "source": []
  }
 ],
 "metadata": {
  "kernelspec": {
   "display_name": "My env",
   "language": "python",
   "name": "myenv"
  },
  "language_info": {
   "codemirror_mode": {
    "name": "ipython",
    "version": 3
   },
   "file_extension": ".py",
   "mimetype": "text/x-python",
   "name": "python",
   "nbconvert_exporter": "python",
   "pygments_lexer": "ipython3",
   "version": "3.12.7"
  }
 },
 "nbformat": 4,
 "nbformat_minor": 5
}
